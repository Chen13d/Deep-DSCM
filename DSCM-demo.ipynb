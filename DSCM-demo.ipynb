{
 "cells": [
  {
   "cell_type": "markdown",
   "id": "d38cf280",
   "metadata": {},
   "source": [
    "<font size=\"5\"> Brief demo of Deep-DSCM </font>"
   ]
  },
  {
   "cell_type": "markdown",
   "id": "ffafea07",
   "metadata": {},
   "source": [
    "<font size=\"5\"> Generate the dataset </font> \n",
    "\n",
    "<font size=\"3\">\n",
    "Before generate the dataset, please deposit the raw data first. The data should be categorized into folders. It's suggested to store the files in \"index + HR_name.tif\" format, for example, \"1_STED.tif\". \n",
    "</font> "
   ]
  },
  {
   "cell_type": "code",
   "execution_count": null,
   "id": "d6174329",
   "metadata": {},
   "outputs": [],
   "source": [
    "from dataset.raw_data_gen import distribution_demo\n",
    "\n",
    "# read_dir for the raw data, put your data in this folder\n",
    "read_dir = r\"data\\STED_data\\demo\"\n",
    "\n",
    "train_dir_HR = r\"data\\train_HR\"\n",
    "test_dir_HR = r\"data\\test_HR\"\n",
    "\n",
    "# The name of folders (compoenents). \n",
    "tags = ['Micro', 'Mito']\n",
    "save_list = ['Micro', 'Mito']\n",
    "# Interval of validation. \n",
    "val_interval = 9\n",
    "# Those images' size smaller than this value will be excluded. \n",
    "size = 512\n",
    "distribution_demo(read_dir=read_dir, train_dir_HR=train_dir_HR, HR_name=\"STED\", val_dir_HR=test_dir_HR, \n",
    "tags=tags, save_list=save_list, val_interval=val_interval, size=size)\n"
   ]
  },
  {
   "cell_type": "markdown",
   "id": "d23252e5",
   "metadata": {},
   "source": [
    "<font size=\"5\"> Train the network </font> \n",
    "\n",
    "<font size=\"3\">\n",
    "Here are two ways of training, the difference is to execute the degradation process inside model / outside model. They do the same function, while one can allocate cpu cores to boost the training easier in outside mode. \n",
    "</font> "
   ]
  },
  {
   "cell_type": "markdown",
   "id": "5e672c0c",
   "metadata": {},
   "source": [
    "\n",
    "Before running the codes, please set the options (options/train_in_model.yml or options/train_with_data.yml). \n",
    "\n",
    "Important hyperparameters: \n",
    "\n",
    "Degradation_resolution (int / float), gives a target resolution for single-channel low-resolution image; \n",
    "\n",
    "noise_level (float), gives a parameter for Poisson noise; \n",
    "\n",
    "Average (int): designate the number of frames for averaging;\n",
    "\n",
    "resolution (dict): The resolution for involved HR components, the dict index should be same as elements in category (list); \n",
    "\n",
    "category (list): The list containing the name of components, should be same as those prepared in previous section; \n",
    "\n",
    "factor_list (list): The list containing integers for brightness of each component. \n"
   ]
  },
  {
   "cell_type": "code",
   "execution_count": null,
   "id": "1e5e2e65",
   "metadata": {},
   "outputs": [],
   "source": [
    "# train in model (default)\n",
    "if 1:\n",
    "    from train_DSCM_in_model import *\n",
    "    main()\n",
    "# train with dataset\n",
    "if 0:\n",
    "    from train_DSCM_with_dataset import *\n",
    "    main()"
   ]
  },
  {
   "cell_type": "markdown",
   "id": "498a4a58",
   "metadata": {},
   "source": [
    "<font size=\"5\"> Run the trained network on real-world confocal microscopy data </font>\n",
    "\n",
    "<font size=\"3\">\n",
    "Here we provide a demo for Microtubules-Mitochondria confocal data, one can run this code with the provided weights. \n",
    "</font>"
   ]
  },
  {
   "cell_type": "code",
   "execution_count": null,
   "id": "d6bedc32",
   "metadata": {},
   "outputs": [],
   "source": [
    "import torch\n",
    "if torch.cuda.is_available():\n",
    "    device = torch.device(\"cuda:0\")\n",
    "    print('-----------------------------Using GPU-----------------------------')\n",
    "else:\n",
    "    device = \"cpu\"\n",
    "    print('-----------------------------Using CPU-----------------------------')\n",
    "\n",
    "from visualization_eval_DSCM import *\n",
    "\n",
    "# The generated images will be saved in the save_dir. \n",
    "weights_dir = r\"visualization\\Demo\\Trained_weights\\Microtubules_Mitochondria_228_0.010_4.pth\"\n",
    "read_dir = r\"visualization\\Demo\\Microtubules_Mitochondria_real-data\\data\"\n",
    "save_dir = r\"visualization\\Demo\\Microtubules_Mitochondria_real-data\\results\"\n",
    "DSCM_enhancement(weights_dir=weights_dir, read_dir=read_dir, save_dir=save_dir, show_image=True)\n"
   ]
  }
 ],
 "metadata": {
  "kernelspec": {
   "display_name": "rtx50",
   "language": "python",
   "name": "python3"
  },
  "language_info": {
   "codemirror_mode": {
    "name": "ipython",
    "version": 3
   },
   "file_extension": ".py",
   "mimetype": "text/x-python",
   "name": "python",
   "nbconvert_exporter": "python",
   "pygments_lexer": "ipython3",
   "version": "3.9.21"
  }
 },
 "nbformat": 4,
 "nbformat_minor": 5
}
